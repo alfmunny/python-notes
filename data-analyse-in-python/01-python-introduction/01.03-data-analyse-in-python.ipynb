{
 "cells": [
  {
   "cell_type": "markdown",
   "metadata": {},
   "source": [
    "# Data Analyse in Python"
   ]
  },
  {
   "cell_type": "markdown",
   "metadata": {},
   "source": [
    "USA goverment opened a dataset which collected from anonymous users. You can download the data from [here](http://1usagov.measuredvoice.com/2013/)(They have shut down this service on the official website since 2016).\n",
    "\n",
    "Unpack the data and put it under your working folder."
   ]
  },
  {
   "cell_type": "markdown",
   "metadata": {},
   "source": [
    "## Obtaining data"
   ]
  },
  {
   "cell_type": "code",
   "execution_count": 6,
   "metadata": {
    "collapsed": true
   },
   "outputs": [],
   "source": [
    "import json\n",
    "%matplotlib inline"
   ]
  },
  {
   "cell_type": "code",
   "execution_count": 7,
   "metadata": {
    "collapsed": true
   },
   "outputs": [],
   "source": [
    "path = 'usagov_bitly_data2013-05-17-1368832207'"
   ]
  },
  {
   "cell_type": "code",
   "execution_count": 8,
   "metadata": {
    "collapsed": false
   },
   "outputs": [
    {
     "data": {
      "text/plain": [
       "'{ \"a\": \"Mozilla\\\\/5.0 (Linux; U; Android 4.1.2; en-us; HTC_PN071 Build\\\\/JZO54K) AppleWebKit\\\\/534.30 (KHTML, like Gecko) Version\\\\/4.0 Mobile Safari\\\\/534.30\", \"c\": \"US\", \"nk\": 0, \"tz\": \"America\\\\/Los_Angeles\", \"gr\": \"CA\", \"g\": \"15r91\", \"h\": \"10OBm3W\", \"l\": \"pontifier\", \"al\": \"en-US\", \"hh\": \"j.mp\", \"r\": \"direct\", \"u\": \"http:\\\\/\\\\/www.nsa.gov\\\\/\", \"t\": 1368832205, \"hc\": 1365701422, \"cy\": \"Anaheim\", \"ll\": [ 33.816101, -117.979401 ] }\\n'"
      ]
     },
     "execution_count": 8,
     "metadata": {},
     "output_type": "execute_result"
    }
   ],
   "source": [
    "open(path).readline()"
   ]
  },
  {
   "cell_type": "markdown",
   "metadata": {},
   "source": [
    "The data is saved in json format. In python you have packages to deal with different format of data. Here **json** is required"
   ]
  },
  {
   "cell_type": "code",
   "execution_count": 9,
   "metadata": {
    "collapsed": false
   },
   "outputs": [],
   "source": [
    "records = [json.loads(line) for line in open(path)]"
   ]
  },
  {
   "cell_type": "code",
   "execution_count": 10,
   "metadata": {
    "collapsed": false
   },
   "outputs": [
    {
     "data": {
      "text/plain": [
       "{'a': 'Mozilla/5.0 (Linux; U; Android 4.1.2; en-us; HTC_PN071 Build/JZO54K) AppleWebKit/534.30 (KHTML, like Gecko) Version/4.0 Mobile Safari/534.30',\n",
       " 'al': 'en-US',\n",
       " 'c': 'US',\n",
       " 'cy': 'Anaheim',\n",
       " 'g': '15r91',\n",
       " 'gr': 'CA',\n",
       " 'h': '10OBm3W',\n",
       " 'hc': 1365701422,\n",
       " 'hh': 'j.mp',\n",
       " 'l': 'pontifier',\n",
       " 'll': [33.816101, -117.979401],\n",
       " 'nk': 0,\n",
       " 'r': 'direct',\n",
       " 't': 1368832205,\n",
       " 'tz': 'America/Los_Angeles',\n",
       " 'u': 'http://www.nsa.gov/'}"
      ]
     },
     "execution_count": 10,
     "metadata": {},
     "output_type": "execute_result"
    }
   ],
   "source": [
    "records[0]"
   ]
  },
  {
   "cell_type": "markdown",
   "metadata": {},
   "source": [
    "You can access the data with index and keyword.\n",
    "\n",
    "For example, accessing the timezone with keyword 'tz'."
   ]
  },
  {
   "cell_type": "code",
   "execution_count": 11,
   "metadata": {
    "collapsed": false
   },
   "outputs": [
    {
     "data": {
      "text/plain": [
       "'America/Los_Angeles'"
      ]
     },
     "execution_count": 11,
     "metadata": {},
     "output_type": "execute_result"
    }
   ],
   "source": [
    "records[0]['tz']"
   ]
  },
  {
   "cell_type": "markdown",
   "metadata": {},
   "source": [
    "## Simple Count for Timezone with plain Python\n",
    "\n",
    "Assume we want to know which timezone appears most."
   ]
  },
  {
   "cell_type": "code",
   "execution_count": 12,
   "metadata": {
    "collapsed": false
   },
   "outputs": [],
   "source": [
    "time_zones = [rec['tz'] for rec in records if 'tz' in rec]"
   ]
  },
  {
   "cell_type": "code",
   "execution_count": 13,
   "metadata": {
    "collapsed": false
   },
   "outputs": [
    {
     "data": {
      "text/plain": [
       "['America/Los_Angeles',\n",
       " '',\n",
       " 'America/Phoenix',\n",
       " 'America/Chicago',\n",
       " '',\n",
       " 'America/Indianapolis',\n",
       " 'America/Chicago',\n",
       " '',\n",
       " 'Australia/NSW',\n",
       " '']"
      ]
     },
     "execution_count": 13,
     "metadata": {},
     "output_type": "execute_result"
    }
   ],
   "source": [
    "time_zones[:10]"
   ]
  },
  {
   "cell_type": "code",
   "execution_count": 14,
   "metadata": {
    "collapsed": false
   },
   "outputs": [],
   "source": [
    "#version 1\n",
    "def get_counts(data):\n",
    "    counts = {}\n",
    "    for d in data:\n",
    "        if d in counts:\n",
    "            counts[d] += 1\n",
    "            \n",
    "        else:\n",
    "            counts[d] = 1          \n",
    "    return counts\n",
    "\n",
    "# version 2\n",
    "from collections import defaultdict\n",
    "\n",
    "def get_counts2(data):\n",
    "    counts = defaultdict(int)\n",
    "    for d in data:\n",
    "        counts[d] += 1\n",
    "    return counts\n"
   ]
  },
  {
   "cell_type": "code",
   "execution_count": 15,
   "metadata": {
    "collapsed": false
   },
   "outputs": [],
   "source": [
    "counts = get_counts(time_zones)"
   ]
  },
  {
   "cell_type": "code",
   "execution_count": 16,
   "metadata": {
    "collapsed": false
   },
   "outputs": [
    {
     "data": {
      "text/plain": [
       "903"
      ]
     },
     "execution_count": 16,
     "metadata": {},
     "output_type": "execute_result"
    }
   ],
   "source": [
    "counts['America/New_York']"
   ]
  },
  {
   "cell_type": "code",
   "execution_count": 17,
   "metadata": {
    "collapsed": false
   },
   "outputs": [
    {
     "data": {
      "text/plain": [
       "111"
      ]
     },
     "execution_count": 17,
     "metadata": {},
     "output_type": "execute_result"
    }
   ],
   "source": [
    "len(counts)"
   ]
  },
  {
   "cell_type": "markdown",
   "metadata": {},
   "source": [
    "Write a function to get the top N"
   ]
  },
  {
   "cell_type": "code",
   "execution_count": 18,
   "metadata": {
    "collapsed": true
   },
   "outputs": [],
   "source": [
    "def top_count(counts, n=3):\n",
    "    pairs = [(v, k) for k, v in counts.items()]\n",
    "    pairs.sort()\n",
    "    \n",
    "    return pairs[-n:]"
   ]
  },
  {
   "cell_type": "code",
   "execution_count": 19,
   "metadata": {
    "collapsed": false
   },
   "outputs": [
    {
     "data": {
      "text/plain": [
       "[(40, 'America/Phoenix'),\n",
       " (50, 'America/Indianapolis'),\n",
       " (85, 'Europe/London'),\n",
       " (89, 'America/Denver'),\n",
       " (102, 'Asia/Tokyo'),\n",
       " (184, 'America/Puerto_Rico'),\n",
       " (421, 'America/Los_Angeles'),\n",
       " (636, ''),\n",
       " (686, 'America/Chicago'),\n",
       " (903, 'America/New_York')]"
      ]
     },
     "execution_count": 19,
     "metadata": {},
     "output_type": "execute_result"
    }
   ],
   "source": [
    "top_count(counts, 10)"
   ]
  },
  {
   "cell_type": "markdown",
   "metadata": {},
   "source": [
    "Make the counting simpler by using **collection.Counter**"
   ]
  },
  {
   "cell_type": "code",
   "execution_count": 20,
   "metadata": {
    "collapsed": false
   },
   "outputs": [],
   "source": [
    "from collections import Counter\n",
    "counts = Counter(time_zones)"
   ]
  },
  {
   "cell_type": "code",
   "execution_count": 21,
   "metadata": {
    "collapsed": false
   },
   "outputs": [
    {
     "data": {
      "text/plain": [
       "[('America/New_York', 903),\n",
       " ('America/Chicago', 686),\n",
       " ('', 636),\n",
       " ('America/Los_Angeles', 421),\n",
       " ('America/Puerto_Rico', 184),\n",
       " ('Asia/Tokyo', 102),\n",
       " ('America/Denver', 89),\n",
       " ('Europe/London', 85),\n",
       " ('America/Indianapolis', 50),\n",
       " ('America/Phoenix', 40)]"
      ]
     },
     "execution_count": 21,
     "metadata": {},
     "output_type": "execute_result"
    }
   ],
   "source": [
    "counts.most_common(10)"
   ]
  },
  {
   "cell_type": "markdown",
   "metadata": {},
   "source": [
    "## Simple Count with Pandas\n",
    "\n",
    "Make it more simpler using DataFrame of Pandas"
   ]
  },
  {
   "cell_type": "code",
   "execution_count": 22,
   "metadata": {
    "collapsed": false
   },
   "outputs": [],
   "source": [
    "from pandas import DataFrame, Series\n",
    "import pandas as pd; import numpy as np"
   ]
  },
  {
   "cell_type": "code",
   "execution_count": 23,
   "metadata": {
    "collapsed": false
   },
   "outputs": [
    {
     "data": {
      "text/html": [
       "<div>\n",
       "<table border=\"1\" class=\"dataframe\">\n",
       "  <thead>\n",
       "    <tr style=\"text-align: right;\">\n",
       "      <th></th>\n",
       "      <th>_heartbeat_</th>\n",
       "      <th>a</th>\n",
       "      <th>al</th>\n",
       "      <th>c</th>\n",
       "      <th>cy</th>\n",
       "      <th>g</th>\n",
       "      <th>gr</th>\n",
       "      <th>h</th>\n",
       "      <th>hc</th>\n",
       "      <th>hh</th>\n",
       "      <th>kw</th>\n",
       "      <th>l</th>\n",
       "      <th>ll</th>\n",
       "      <th>nk</th>\n",
       "      <th>r</th>\n",
       "      <th>t</th>\n",
       "      <th>tz</th>\n",
       "      <th>u</th>\n",
       "    </tr>\n",
       "  </thead>\n",
       "  <tbody>\n",
       "    <tr>\n",
       "      <th>0</th>\n",
       "      <td>NaN</td>\n",
       "      <td>Mozilla/5.0 (Linux; U; Android 4.1.2; en-us; H...</td>\n",
       "      <td>en-US</td>\n",
       "      <td>US</td>\n",
       "      <td>Anaheim</td>\n",
       "      <td>15r91</td>\n",
       "      <td>CA</td>\n",
       "      <td>10OBm3W</td>\n",
       "      <td>1.365701e+09</td>\n",
       "      <td>j.mp</td>\n",
       "      <td>NaN</td>\n",
       "      <td>pontifier</td>\n",
       "      <td>[33.816101, -117.979401]</td>\n",
       "      <td>0.0</td>\n",
       "      <td>direct</td>\n",
       "      <td>1.368832e+09</td>\n",
       "      <td>America/Los_Angeles</td>\n",
       "      <td>http://www.nsa.gov/</td>\n",
       "    </tr>\n",
       "    <tr>\n",
       "      <th>1</th>\n",
       "      <td>NaN</td>\n",
       "      <td>Mozilla/4.0 (compatible; MSIE 7.0; Windows NT ...</td>\n",
       "      <td>en-us</td>\n",
       "      <td>None</td>\n",
       "      <td>NaN</td>\n",
       "      <td>ifIpBW</td>\n",
       "      <td>NaN</td>\n",
       "      <td>ifIpBW</td>\n",
       "      <td>1.302189e+09</td>\n",
       "      <td>1.usa.gov</td>\n",
       "      <td>NaN</td>\n",
       "      <td>bitly</td>\n",
       "      <td>NaN</td>\n",
       "      <td>0.0</td>\n",
       "      <td>http://www.usa.gov/</td>\n",
       "      <td>1.368832e+09</td>\n",
       "      <td></td>\n",
       "      <td>http://answers.usa.gov/system/selfservice.cont...</td>\n",
       "    </tr>\n",
       "    <tr>\n",
       "      <th>2</th>\n",
       "      <td>NaN</td>\n",
       "      <td>Mozilla/5.0 (Windows NT 6.1; rv:21.0) Gecko/20...</td>\n",
       "      <td>en-US,en;q=0.5</td>\n",
       "      <td>US</td>\n",
       "      <td>Fort Huachuca</td>\n",
       "      <td>10DaxOu</td>\n",
       "      <td>AZ</td>\n",
       "      <td>10DaxOt</td>\n",
       "      <td>1.368815e+09</td>\n",
       "      <td>1.usa.gov</td>\n",
       "      <td>NaN</td>\n",
       "      <td>jaxstrong</td>\n",
       "      <td>[31.5273, -110.360703]</td>\n",
       "      <td>1.0</td>\n",
       "      <td>http://www.facebook.com/l.php?u=http%3A%2F%2F1...</td>\n",
       "      <td>1.368832e+09</td>\n",
       "      <td>America/Phoenix</td>\n",
       "      <td>http://www.saj.usace.army.mil/Media/NewsReleas...</td>\n",
       "    </tr>\n",
       "    <tr>\n",
       "      <th>3</th>\n",
       "      <td>NaN</td>\n",
       "      <td>Mozilla/5.0 (Linux; U; Android 4.1.2; en-us; S...</td>\n",
       "      <td>en-US</td>\n",
       "      <td>US</td>\n",
       "      <td>Houston</td>\n",
       "      <td>TysVFU</td>\n",
       "      <td>TX</td>\n",
       "      <td>TChsoQ</td>\n",
       "      <td>1.354719e+09</td>\n",
       "      <td>1.usa.gov</td>\n",
       "      <td>NaN</td>\n",
       "      <td>o_5004fs3lvd</td>\n",
       "      <td>[29.7633, -95.363297]</td>\n",
       "      <td>1.0</td>\n",
       "      <td>http://m.facebook.com/l.php?u=http%3A%2F%2F1.u...</td>\n",
       "      <td>1.368832e+09</td>\n",
       "      <td>America/Chicago</td>\n",
       "      <td>https://nationalregistry.fmcsa.dot.gov/</td>\n",
       "    </tr>\n",
       "    <tr>\n",
       "      <th>4</th>\n",
       "      <td>NaN</td>\n",
       "      <td>Opera/9.80 (Android; Opera Mini/7.5.33286/29.3...</td>\n",
       "      <td>en</td>\n",
       "      <td>None</td>\n",
       "      <td>NaN</td>\n",
       "      <td>10IGW7m</td>\n",
       "      <td>NaN</td>\n",
       "      <td>10IGW7l</td>\n",
       "      <td>1.368738e+09</td>\n",
       "      <td>1.usa.gov</td>\n",
       "      <td>NaN</td>\n",
       "      <td>peacecorps</td>\n",
       "      <td>NaN</td>\n",
       "      <td>0.0</td>\n",
       "      <td>http://t.co/CDO9hLTtNT</td>\n",
       "      <td>1.368832e+09</td>\n",
       "      <td></td>\n",
       "      <td>http://www.peacecorps.gov/learn/howvol/ab530gr...</td>\n",
       "    </tr>\n",
       "  </tbody>\n",
       "</table>\n",
       "</div>"
      ],
      "text/plain": [
       "   _heartbeat_                                                  a  \\\n",
       "0          NaN  Mozilla/5.0 (Linux; U; Android 4.1.2; en-us; H...   \n",
       "1          NaN  Mozilla/4.0 (compatible; MSIE 7.0; Windows NT ...   \n",
       "2          NaN  Mozilla/5.0 (Windows NT 6.1; rv:21.0) Gecko/20...   \n",
       "3          NaN  Mozilla/5.0 (Linux; U; Android 4.1.2; en-us; S...   \n",
       "4          NaN  Opera/9.80 (Android; Opera Mini/7.5.33286/29.3...   \n",
       "\n",
       "               al     c             cy        g   gr        h            hc  \\\n",
       "0           en-US    US        Anaheim    15r91   CA  10OBm3W  1.365701e+09   \n",
       "1           en-us  None            NaN   ifIpBW  NaN   ifIpBW  1.302189e+09   \n",
       "2  en-US,en;q=0.5    US  Fort Huachuca  10DaxOu   AZ  10DaxOt  1.368815e+09   \n",
       "3           en-US    US        Houston   TysVFU   TX   TChsoQ  1.354719e+09   \n",
       "4              en  None            NaN  10IGW7m  NaN  10IGW7l  1.368738e+09   \n",
       "\n",
       "          hh   kw             l                        ll   nk  \\\n",
       "0       j.mp  NaN     pontifier  [33.816101, -117.979401]  0.0   \n",
       "1  1.usa.gov  NaN         bitly                       NaN  0.0   \n",
       "2  1.usa.gov  NaN     jaxstrong    [31.5273, -110.360703]  1.0   \n",
       "3  1.usa.gov  NaN  o_5004fs3lvd     [29.7633, -95.363297]  1.0   \n",
       "4  1.usa.gov  NaN    peacecorps                       NaN  0.0   \n",
       "\n",
       "                                                   r             t  \\\n",
       "0                                             direct  1.368832e+09   \n",
       "1                                http://www.usa.gov/  1.368832e+09   \n",
       "2  http://www.facebook.com/l.php?u=http%3A%2F%2F1...  1.368832e+09   \n",
       "3  http://m.facebook.com/l.php?u=http%3A%2F%2F1.u...  1.368832e+09   \n",
       "4                             http://t.co/CDO9hLTtNT  1.368832e+09   \n",
       "\n",
       "                    tz                                                  u  \n",
       "0  America/Los_Angeles                                http://www.nsa.gov/  \n",
       "1                       http://answers.usa.gov/system/selfservice.cont...  \n",
       "2      America/Phoenix  http://www.saj.usace.army.mil/Media/NewsReleas...  \n",
       "3      America/Chicago            https://nationalregistry.fmcsa.dot.gov/  \n",
       "4                       http://www.peacecorps.gov/learn/howvol/ab530gr...  "
      ]
     },
     "execution_count": 23,
     "metadata": {},
     "output_type": "execute_result"
    }
   ],
   "source": [
    "frame = DataFrame(records)\n",
    "frame.head()"
   ]
  },
  {
   "cell_type": "code",
   "execution_count": 24,
   "metadata": {
    "collapsed": false
   },
   "outputs": [
    {
     "data": {
      "text/plain": [
       "0     America/Los_Angeles\n",
       "1                        \n",
       "2         America/Phoenix\n",
       "3         America/Chicago\n",
       "4                        \n",
       "5    America/Indianapolis\n",
       "6         America/Chicago\n",
       "7                        \n",
       "8           Australia/NSW\n",
       "9                        \n",
       "Name: tz, dtype: object"
      ]
     },
     "execution_count": 24,
     "metadata": {},
     "output_type": "execute_result"
    }
   ],
   "source": [
    "frame['tz'][:10]"
   ]
  },
  {
   "cell_type": "markdown",
   "metadata": {},
   "source": [
    "The return of `frame['tz']` is a Series object. It has a value_counts method."
   ]
  },
  {
   "cell_type": "code",
   "execution_count": 25,
   "metadata": {
    "collapsed": true
   },
   "outputs": [],
   "source": [
    "tz_counts = frame['tz'].value_counts()"
   ]
  },
  {
   "cell_type": "code",
   "execution_count": 26,
   "metadata": {
    "collapsed": false
   },
   "outputs": [
    {
     "data": {
      "text/plain": [
       "America/New_York        903\n",
       "America/Chicago         686\n",
       "                        636\n",
       "America/Los_Angeles     421\n",
       "America/Puerto_Rico     184\n",
       "Asia/Tokyo              102\n",
       "America/Denver           89\n",
       "Europe/London            85\n",
       "America/Indianapolis     50\n",
       "America/Phoenix          40\n",
       "Name: tz, dtype: int64"
      ]
     },
     "execution_count": 26,
     "metadata": {},
     "output_type": "execute_result"
    }
   ],
   "source": [
    "tz_counts[:10]"
   ]
  },
  {
   "cell_type": "markdown",
   "metadata": {},
   "source": [
    "Use `.fillna` to get rid of NaN, and use the string 'Unknown' to replace the empty value ''."
   ]
  },
  {
   "cell_type": "code",
   "execution_count": 27,
   "metadata": {
    "collapsed": true
   },
   "outputs": [],
   "source": [
    "clean_tz = frame['tz'].fillna('Missing')"
   ]
  },
  {
   "cell_type": "code",
   "execution_count": 28,
   "metadata": {
    "collapsed": false
   },
   "outputs": [],
   "source": [
    "clean_tz[clean_tz == ''] = \"Unknown\""
   ]
  },
  {
   "cell_type": "code",
   "execution_count": 29,
   "metadata": {
    "collapsed": true
   },
   "outputs": [],
   "source": [
    "tz_counts = clean_tz.value_counts()"
   ]
  },
  {
   "cell_type": "code",
   "execution_count": 30,
   "metadata": {
    "collapsed": false
   },
   "outputs": [
    {
     "data": {
      "text/plain": [
       "America/New_York        903\n",
       "America/Chicago         686\n",
       "Unknown                 636\n",
       "America/Los_Angeles     421\n",
       "America/Puerto_Rico     184\n",
       "Missing                 120\n",
       "Asia/Tokyo              102\n",
       "America/Denver           89\n",
       "Europe/London            85\n",
       "America/Indianapolis     50\n",
       "Name: tz, dtype: int64"
      ]
     },
     "execution_count": 30,
     "metadata": {},
     "output_type": "execute_result"
    }
   ],
   "source": [
    "tz_counts[:10]"
   ]
  },
  {
   "cell_type": "markdown",
   "metadata": {},
   "source": [
    "Plot a bar diagram using the top 10"
   ]
  },
  {
   "cell_type": "code",
   "execution_count": 50,
   "metadata": {
    "collapsed": false
   },
   "outputs": [
    {
     "data": {
      "text/plain": [
       "<matplotlib.axes._subplots.AxesSubplot at 0x1179583c8>"
      ]
     },
     "execution_count": 50,
     "metadata": {},
     "output_type": "execute_result"
    },
    {
     "data": {
      "image/png": "[encoded data removed]",
      "text/plain": [
       "<matplotlib.figure.Figure at 0x117a90550>"
      ]
     },
     "metadata": {},
     "output_type": "display_data"
    }
   ],
   "source": [
    "tz_counts[:10].plot(kind='barh', rot=0)"
   ]
  },
  {
   "cell_type": "markdown",
   "metadata": {},
   "source": [
    "## Count the operating system\n",
    "\n",
    "The column **'a'** represents the operating system the user takes."
   ]
  },
  {
   "cell_type": "code",
   "execution_count": 32,
   "metadata": {
    "collapsed": false
   },
   "outputs": [
    {
     "data": {
      "text/plain": [
       "'Mozilla/5.0 (Windows NT 6.1; rv:21.0) Gecko/20100101 Firefox/21.0'"
      ]
     },
     "execution_count": 32,
     "metadata": {},
     "output_type": "execute_result"
    }
   ],
   "source": [
    "frame['a'][2]"
   ]
  },
  {
   "cell_type": "markdown",
   "metadata": {},
   "source": [
    "`.dropna()` is to drop the NaN rows."
   ]
  },
  {
   "cell_type": "code",
   "execution_count": 33,
   "metadata": {
    "collapsed": false
   },
   "outputs": [],
   "source": [
    "results = Series(x.split()[0] for x in frame.a.dropna())"
   ]
  },
  {
   "cell_type": "markdown",
   "metadata": {},
   "source": [
    "List the first 5 OS"
   ]
  },
  {
   "cell_type": "code",
   "execution_count": 34,
   "metadata": {
    "collapsed": false
   },
   "outputs": [
    {
     "data": {
      "text/plain": [
       "0    Mozilla/5.0\n",
       "1    Mozilla/4.0\n",
       "2    Mozilla/5.0\n",
       "3    Mozilla/5.0\n",
       "4     Opera/9.80\n",
       "dtype: object"
      ]
     },
     "execution_count": 34,
     "metadata": {},
     "output_type": "execute_result"
    }
   ],
   "source": [
    "results[:5]"
   ]
  },
  {
   "cell_type": "markdown",
   "metadata": {},
   "source": [
    "Get the top 5 OS most used"
   ]
  },
  {
   "cell_type": "code",
   "execution_count": 35,
   "metadata": {
    "collapsed": false
   },
   "outputs": [
    {
     "data": {
      "text/plain": [
       "Mozilla/5.0           3251\n",
       "Mozilla/4.0            322\n",
       "CakePHP                 38\n",
       "ShortLinkTranslate      36\n",
       "TVersity                30\n",
       "dtype: int64"
      ]
     },
     "execution_count": 35,
     "metadata": {},
     "output_type": "execute_result"
    }
   ],
   "source": [
    "results.value_counts()[:5]"
   ]
  },
  {
   "cell_type": "markdown",
   "metadata": {},
   "source": [
    "Get the frame without NaN rows in column 'a'"
   ]
  },
  {
   "cell_type": "code",
   "execution_count": 127,
   "metadata": {
    "collapsed": false
   },
   "outputs": [],
   "source": [
    "cframe = frame[frame.a.notnull()]"
   ]
  },
  {
   "cell_type": "markdown",
   "metadata": {},
   "source": [
    "Calculate an index to indicate wether the OS is windows"
   ]
  },
  {
   "cell_type": "code",
   "execution_count": 81,
   "metadata": {
    "collapsed": false
   },
   "outputs": [
    {
     "name": "stdout",
     "output_type": "stream",
     "text": [
      "['Not Windows' 'Windows' 'Windows' 'Not Windows' 'Not Windows' 'Windows'\n",
      " 'Windows' 'Not Windows' 'Not Windows' 'Windows']\n"
     ]
    }
   ],
   "source": [
    "operating_system = np.where(cframe['a'].str.contains('Windows'), 'Windows', 'Not Windows')\n",
    "\n",
    "print(operating_system[:10])"
   ]
  },
  {
   "cell_type": "markdown",
   "metadata": {},
   "source": [
    "Group the data with the OS index"
   ]
  },
  {
   "cell_type": "code",
   "execution_count": 122,
   "metadata": {
    "collapsed": false
   },
   "outputs": [],
   "source": [
    "by_tz_os = cframe.groupby(['tz', operating_system])"
   ]
  },
  {
   "cell_type": "markdown",
   "metadata": {},
   "source": [
    "unstack and fillna"
   ]
  },
  {
   "cell_type": "code",
   "execution_count": 133,
   "metadata": {
    "collapsed": false
   },
   "outputs": [
    {
     "data": {
      "text/html": [
       "<div>\n",
       "<table border=\"1\" class=\"dataframe\">\n",
       "  <thead>\n",
       "    <tr style=\"text-align: right;\">\n",
       "      <th></th>\n",
       "      <th>Not Windows</th>\n",
       "      <th>Windows</th>\n",
       "    </tr>\n",
       "    <tr>\n",
       "      <th>tz</th>\n",
       "      <th></th>\n",
       "      <th></th>\n",
       "    </tr>\n",
       "  </thead>\n",
       "  <tbody>\n",
       "    <tr>\n",
       "      <th>Africa/Cairo</th>\n",
       "      <td>0.0</td>\n",
       "      <td>3.0</td>\n",
       "    </tr>\n",
       "    <tr>\n",
       "      <th>Africa/Casablanca</th>\n",
       "      <td>0.0</td>\n",
       "      <td>1.0</td>\n",
       "    </tr>\n",
       "    <tr>\n",
       "      <th>Africa/Ceuta</th>\n",
       "      <td>4.0</td>\n",
       "      <td>2.0</td>\n",
       "    </tr>\n",
       "    <tr>\n",
       "      <th>Africa/Gaborone</th>\n",
       "      <td>0.0</td>\n",
       "      <td>1.0</td>\n",
       "    </tr>\n",
       "    <tr>\n",
       "      <th>Africa/Johannesburg</th>\n",
       "      <td>2.0</td>\n",
       "      <td>0.0</td>\n",
       "    </tr>\n",
       "    <tr>\n",
       "      <th>America/Anchorage</th>\n",
       "      <td>5.0</td>\n",
       "      <td>3.0</td>\n",
       "    </tr>\n",
       "    <tr>\n",
       "      <th>America/Argentina/Buenos_Aires</th>\n",
       "      <td>4.0</td>\n",
       "      <td>7.0</td>\n",
       "    </tr>\n",
       "    <tr>\n",
       "      <th>America/Argentina/Catamarca</th>\n",
       "      <td>1.0</td>\n",
       "      <td>0.0</td>\n",
       "    </tr>\n",
       "    <tr>\n",
       "      <th>America/Argentina/Cordoba</th>\n",
       "      <td>0.0</td>\n",
       "      <td>2.0</td>\n",
       "    </tr>\n",
       "    <tr>\n",
       "      <th>America/Asuncion</th>\n",
       "      <td>0.0</td>\n",
       "      <td>1.0</td>\n",
       "    </tr>\n",
       "  </tbody>\n",
       "</table>\n",
       "</div>"
      ],
      "text/plain": [
       "                                Not Windows  Windows\n",
       "tz                                                  \n",
       "Africa/Cairo                            0.0      3.0\n",
       "Africa/Casablanca                       0.0      1.0\n",
       "Africa/Ceuta                            4.0      2.0\n",
       "Africa/Gaborone                         0.0      1.0\n",
       "Africa/Johannesburg                     2.0      0.0\n",
       "America/Anchorage                       5.0      3.0\n",
       "America/Argentina/Buenos_Aires          4.0      7.0\n",
       "America/Argentina/Catamarca             1.0      0.0\n",
       "America/Argentina/Cordoba               0.0      2.0\n",
       "America/Asuncion                        0.0      1.0"
      ]
     },
     "execution_count": 133,
     "metadata": {},
     "output_type": "execute_result"
    }
   ],
   "source": [
    "agg_counts = by_tz_os.size().unstack().fillna(0)\n",
    "agg_counts.head(10)"
   ]
  },
  {
   "cell_type": "markdown",
   "metadata": {},
   "source": [
    "make sum of the "
   ]
  },
  {
   "cell_type": "code",
   "execution_count": 151,
   "metadata": {
    "collapsed": false
   },
   "outputs": [],
   "source": [
    "indexer = agg_counts.sum(1).argsort()"
   ]
  },
  {
   "cell_type": "markdown",
   "metadata": {},
   "source": [
    "sort the agg_counts with the indexer"
   ]
  },
  {
   "cell_type": "code",
   "execution_count": 154,
   "metadata": {
    "collapsed": true
   },
   "outputs": [],
   "source": [
    "count_subset = agg_counts.take(indexer)[-10:]"
   ]
  },
  {
   "cell_type": "code",
   "execution_count": 155,
   "metadata": {
    "collapsed": false
   },
   "outputs": [
    {
     "data": {
      "text/html": [
       "<div>\n",
       "<table border=\"1\" class=\"dataframe\">\n",
       "  <thead>\n",
       "    <tr style=\"text-align: right;\">\n",
       "      <th></th>\n",
       "      <th>Not Windows</th>\n",
       "      <th>Windows</th>\n",
       "    </tr>\n",
       "    <tr>\n",
       "      <th>tz</th>\n",
       "      <th></th>\n",
       "      <th></th>\n",
       "    </tr>\n",
       "  </thead>\n",
       "  <tbody>\n",
       "    <tr>\n",
       "      <th>America/Phoenix</th>\n",
       "      <td>22.0</td>\n",
       "      <td>18.0</td>\n",
       "    </tr>\n",
       "    <tr>\n",
       "      <th>America/Indianapolis</th>\n",
       "      <td>29.0</td>\n",
       "      <td>21.0</td>\n",
       "    </tr>\n",
       "    <tr>\n",
       "      <th>Europe/London</th>\n",
       "      <td>62.0</td>\n",
       "      <td>23.0</td>\n",
       "    </tr>\n",
       "    <tr>\n",
       "      <th>America/Denver</th>\n",
       "      <td>41.0</td>\n",
       "      <td>48.0</td>\n",
       "    </tr>\n",
       "    <tr>\n",
       "      <th>Asia/Tokyo</th>\n",
       "      <td>88.0</td>\n",
       "      <td>14.0</td>\n",
       "    </tr>\n",
       "    <tr>\n",
       "      <th>America/Puerto_Rico</th>\n",
       "      <td>93.0</td>\n",
       "      <td>91.0</td>\n",
       "    </tr>\n",
       "    <tr>\n",
       "      <th>America/Los_Angeles</th>\n",
       "      <td>207.0</td>\n",
       "      <td>214.0</td>\n",
       "    </tr>\n",
       "    <tr>\n",
       "      <th>DADS</th>\n",
       "      <td>484.0</td>\n",
       "      <td>152.0</td>\n",
       "    </tr>\n",
       "    <tr>\n",
       "      <th>America/Chicago</th>\n",
       "      <td>343.0</td>\n",
       "      <td>343.0</td>\n",
       "    </tr>\n",
       "    <tr>\n",
       "      <th>America/New_York</th>\n",
       "      <td>550.0</td>\n",
       "      <td>353.0</td>\n",
       "    </tr>\n",
       "  </tbody>\n",
       "</table>\n",
       "</div>"
      ],
      "text/plain": [
       "                      Not Windows  Windows\n",
       "tz                                        \n",
       "America/Phoenix              22.0     18.0\n",
       "America/Indianapolis         29.0     21.0\n",
       "Europe/London                62.0     23.0\n",
       "America/Denver               41.0     48.0\n",
       "Asia/Tokyo                   88.0     14.0\n",
       "America/Puerto_Rico          93.0     91.0\n",
       "America/Los_Angeles         207.0    214.0\n",
       "DADS                        484.0    152.0\n",
       "America/Chicago             343.0    343.0\n",
       "America/New_York            550.0    353.0"
      ]
     },
     "execution_count": 155,
     "metadata": {},
     "output_type": "execute_result"
    }
   ],
   "source": [
    "count_subset"
   ]
  },
  {
   "cell_type": "code",
   "execution_count": 45,
   "metadata": {
    "collapsed": false
   },
   "outputs": [
    {
     "data": {
      "text/plain": [
       "<matplotlib.axes._subplots.AxesSubplot at 0x11751ca90>"
      ]
     },
     "execution_count": 45,
     "metadata": {},
     "output_type": "execute_result"
    },
    {
     "data": {
      "image/png": "[encoded data removed]",
      "text/plain": [
       "<matplotlib.figure.Figure at 0x1175832b0>"
      ]
     },
     "metadata": {},
     "output_type": "display_data"
    }
   ],
   "source": [
    "count_subset.plot(kind='barh', stacked=True)"
   ]
  },
  {
   "cell_type": "markdown",
   "metadata": {},
   "source": [
    "converet the value into percentage"
   ]
  },
  {
   "cell_type": "code",
   "execution_count": 46,
   "metadata": {
    "collapsed": true
   },
   "outputs": [],
   "source": [
    "normed_subset = count_subset.div(count_subset.sum(1), axis=0)"
   ]
  },
  {
   "cell_type": "code",
   "execution_count": 156,
   "metadata": {
    "collapsed": false
   },
   "outputs": [
    {
     "data": {
      "text/html": [
       "<div>\n",
       "<table border=\"1\" class=\"dataframe\">\n",
       "  <thead>\n",
       "    <tr style=\"text-align: right;\">\n",
       "      <th></th>\n",
       "      <th>Not Windows</th>\n",
       "      <th>Windows</th>\n",
       "    </tr>\n",
       "    <tr>\n",
       "      <th>tz</th>\n",
       "      <th></th>\n",
       "      <th></th>\n",
       "    </tr>\n",
       "  </thead>\n",
       "  <tbody>\n",
       "    <tr>\n",
       "      <th>America/Phoenix</th>\n",
       "      <td>0.550000</td>\n",
       "      <td>0.450000</td>\n",
       "    </tr>\n",
       "    <tr>\n",
       "      <th>America/Indianapolis</th>\n",
       "      <td>0.580000</td>\n",
       "      <td>0.420000</td>\n",
       "    </tr>\n",
       "    <tr>\n",
       "      <th>Europe/London</th>\n",
       "      <td>0.729412</td>\n",
       "      <td>0.270588</td>\n",
       "    </tr>\n",
       "    <tr>\n",
       "      <th>America/Denver</th>\n",
       "      <td>0.460674</td>\n",
       "      <td>0.539326</td>\n",
       "    </tr>\n",
       "    <tr>\n",
       "      <th>Asia/Tokyo</th>\n",
       "      <td>0.862745</td>\n",
       "      <td>0.137255</td>\n",
       "    </tr>\n",
       "    <tr>\n",
       "      <th>America/Puerto_Rico</th>\n",
       "      <td>0.505435</td>\n",
       "      <td>0.494565</td>\n",
       "    </tr>\n",
       "    <tr>\n",
       "      <th>America/Los_Angeles</th>\n",
       "      <td>0.491686</td>\n",
       "      <td>0.508314</td>\n",
       "    </tr>\n",
       "    <tr>\n",
       "      <th></th>\n",
       "      <td>0.761006</td>\n",
       "      <td>0.238994</td>\n",
       "    </tr>\n",
       "    <tr>\n",
       "      <th>America/Chicago</th>\n",
       "      <td>0.500000</td>\n",
       "      <td>0.500000</td>\n",
       "    </tr>\n",
       "    <tr>\n",
       "      <th>America/New_York</th>\n",
       "      <td>0.609081</td>\n",
       "      <td>0.390919</td>\n",
       "    </tr>\n",
       "  </tbody>\n",
       "</table>\n",
       "</div>"
      ],
      "text/plain": [
       "                      Not Windows   Windows\n",
       "tz                                         \n",
       "America/Phoenix          0.550000  0.450000\n",
       "America/Indianapolis     0.580000  0.420000\n",
       "Europe/London            0.729412  0.270588\n",
       "America/Denver           0.460674  0.539326\n",
       "Asia/Tokyo               0.862745  0.137255\n",
       "America/Puerto_Rico      0.505435  0.494565\n",
       "America/Los_Angeles      0.491686  0.508314\n",
       "                         0.761006  0.238994\n",
       "America/Chicago          0.500000  0.500000\n",
       "America/New_York         0.609081  0.390919"
      ]
     },
     "execution_count": 156,
     "metadata": {},
     "output_type": "execute_result"
    }
   ],
   "source": [
    "normed_subset"
   ]
  },
  {
   "cell_type": "code",
   "execution_count": 48,
   "metadata": {
    "collapsed": false
   },
   "outputs": [
    {
     "data": {
      "text/plain": [
       "<matplotlib.axes._subplots.AxesSubplot at 0x11777a1d0>"
      ]
     },
     "execution_count": 48,
     "metadata": {},
     "output_type": "execute_result"
    },
    {
     "data": {
      "image/png": "[encoded data removed]",
      "text/plain": [
       "<matplotlib.figure.Figure at 0x117724f98>"
      ]
     },
     "metadata": {},
     "output_type": "display_data"
    }
   ],
   "source": [
    "normed_subset.plot(kind='barh', stacked=True)"
   ]
  }
 ],
 "metadata": {
  "kernelspec": {
   "display_name": "Python 3",
   "language": "python",
   "name": "python3"
  },
  "language_info": {
   "codemirror_mode": {
    "name": "ipython",
    "version": 3
   },
   "file_extension": ".py",
   "mimetype": "text/x-python",
   "name": "python",
   "nbconvert_exporter": "python",
   "pygments_lexer": "ipython3",
   "version": "3.6.0"
  },
  "toc": {
   "colors": {
    "hover_highlight": "#DAA520",
    "navigate_num": "#000000",
    "navigate_text": "#333333",
    "running_highlight": "#FF0000",
    "selected_highlight": "#FFD700",
    "sidebar_border": "#EEEEEE",
    "wrapper_background": "#FFFFFF"
   },
   "moveMenuLeft": true,
   "nav_menu": {
    "height": "99px",
    "width": "252px"
   },
   "navigate_menu": true,
   "number_sections": false,
   "sideBar": true,
   "threshold": 4,
   "toc_cell": false,
   "toc_position": {
    "height": "776px",
    "left": "0px",
    "right": "741px",
    "top": "106px",
    "width": "206px"
   },
   "toc_section_display": "block",
   "toc_window_display": true,
   "widenNotebook": false
  }
 },
 "nbformat": 4,
 "nbformat_minor": 2
}
