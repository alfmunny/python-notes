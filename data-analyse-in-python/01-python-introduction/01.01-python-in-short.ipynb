{
 "cells": [
  {
   "cell_type": "markdown",
   "metadata": {
    "toc": "true"
   },
   "source": [
    "# Table of Contents\n",
    " <p><div class=\"lev1 toc-item\"><a href=\"#Python\" data-toc-modified-id=\"Python-1\"><span class=\"toc-item-num\">1&nbsp;&nbsp;</span>Python</a></div><div class=\"lev2 toc-item\"><a href=\"#Python-history\" data-toc-modified-id=\"Python-history-11\"><span class=\"toc-item-num\">1.1&nbsp;&nbsp;</span>Python history</a></div><div class=\"lev2 toc-item\"><a href=\"#Installation\" data-toc-modified-id=\"Installation-12\"><span class=\"toc-item-num\">1.2&nbsp;&nbsp;</span>Installation</a></div><div class=\"lev2 toc-item\"><a href=\"#The-Zen-of-Python\" data-toc-modified-id=\"The-Zen-of-Python-13\"><span class=\"toc-item-num\">1.3&nbsp;&nbsp;</span>The Zen of Python</a></div>"
   ]
  },
  {
   "cell_type": "markdown",
   "metadata": {},
   "source": [
    "# Python\n",
    "\n",
    "## Python history\n",
    "\n",
    "Python was created by Guido van Rossum and first released in 1991. \n",
    "\n",
    "It was initially a \"hobby\" project to keep him occupied during the week around Chrismas. The name came from \"Monty Python's Flying Circus\", the same group made the film \"Monty Python and the Holy Grail\". He is a big fan of the group.\n",
    "\n",
    "Python 2.0 was released on 16 October 2000. Python2.7 is mostly used.\n",
    "\n",
    "Python 3.0 was released on 3 December 2008.\n",
    "\n",
    "In this tutorial, the python 3.0 will be used.\n"
   ]
  },
  {
   "cell_type": "markdown",
   "metadata": {},
   "source": [
    "\n",
    "## Installation\n",
    "\n",
    "The installtion is straightforward. You can download the latest version for all kinds of platforms on the [official website](https://www.python.org/downloads/) and unpack it to install.\n",
    "\n",
    "After the installation, open your terminal, and type:\n",
    "\n",
    "`$ python`\n",
    "\n",
    "You should have logged into the python interpretor.\n",
    "\n",
    "Type your first line of python.\n"
   ]
  },
  {
   "cell_type": "code",
   "execution_count": 3,
   "metadata": {
    "collapsed": false
   },
   "outputs": [
    {
     "name": "stdout",
     "output_type": "stream",
     "text": [
      "hello world!\n"
     ]
    }
   ],
   "source": [
    "print(\"Hello world!\")"
   ]
  },
  {
   "cell_type": "markdown",
   "metadata": {},
   "source": [
    "Write this line to a file with .py as type. You have a python script. Run this script."
   ]
  },
  {
   "cell_type": "markdown",
   "metadata": {},
   "source": [
    "`$ python hello.py`"
   ]
  },
  {
   "cell_type": "markdown",
   "metadata": {},
   "source": [
    "It prints \"Hello world!\" on screen."
   ]
  },
  {
   "cell_type": "markdown",
   "metadata": {},
   "source": [
    "## The Zen of Python\n",
    "\n",
    "Python has a design philosophy which emphasizes code readability. It pursuits explicity and simplicity. The Zen of Python is shipped with the installation."
   ]
  },
  {
   "cell_type": "code",
   "execution_count": 4,
   "metadata": {
    "collapsed": false,
    "scrolled": true
   },
   "outputs": [
    {
     "name": "stdout",
     "output_type": "stream",
     "text": [
      "The Zen of Python, by Tim Peters\n",
      "\n",
      "Beautiful is better than ugly.\n",
      "Explicit is better than implicit.\n",
      "Simple is better than complex.\n",
      "Complex is better than complicated.\n",
      "Flat is better than nested.\n",
      "Sparse is better than dense.\n",
      "Readability counts.\n",
      "Special cases aren't special enough to break the rules.\n",
      "Although practicality beats purity.\n",
      "Errors should never pass silently.\n",
      "Unless explicitly silenced.\n",
      "In the face of ambiguity, refuse the temptation to guess.\n",
      "There should be one-- and preferably only one --obvious way to do it.\n",
      "Although that way may not be obvious at first unless you're Dutch.\n",
      "Now is better than never.\n",
      "Although never is often better than *right* now.\n",
      "If the implementation is hard to explain, it's a bad idea.\n",
      "If the implementation is easy to explain, it may be a good idea.\n",
      "Namespaces are one honking great idea -- let's do more of those!\n"
     ]
    }
   ],
   "source": [
    "import this"
   ]
  },
  {
   "cell_type": "markdown",
   "metadata": {},
   "source": []
  },
  {
   "cell_type": "markdown",
   "metadata": {},
   "source": []
  }
 ],
 "metadata": {
  "kernelspec": {
   "display_name": "Python 3",
   "language": "python",
   "name": "python3"
  },
  "language_info": {
   "codemirror_mode": {
    "name": "ipython",
    "version": 3
   },
   "file_extension": ".py",
   "mimetype": "text/x-python",
   "name": "python",
   "nbconvert_exporter": "python",
   "pygments_lexer": "ipython3",
   "version": "3.6.0"
  },
  "toc": {
   "colors": {
    "hover_highlight": "#DAA520",
    "navigate_num": "#000000",
    "navigate_text": "#333333",
    "running_highlight": "#FF0000",
    "selected_highlight": "#FFD700",
    "sidebar_border": "#EEEEEE",
    "wrapper_background": "#FFFFFF"
   },
   "moveMenuLeft": true,
   "nav_menu": {
    "height": "84px",
    "width": "252px"
   },
   "navigate_menu": true,
   "number_sections": false,
   "sideBar": true,
   "threshold": 4,
   "toc_cell": true,
   "toc_section_display": "block",
   "toc_window_display": true,
   "widenNotebook": false
  }
 },
 "nbformat": 4,
 "nbformat_minor": 2
}
